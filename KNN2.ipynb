{
 "cells": [
  {
   "cell_type": "code",
   "execution_count": 6,
   "metadata": {},
   "outputs": [],
   "source": [
    "import numpy as np\n",
    "import math\n",
    "import os\n",
    "from scipy.spatial import  distance\n",
    "import matplotlib\n",
    "import pandas as pd\n",
    "from sklearn import datasets\n",
    "from sklearn.cluster import KMeans\n",
    "from sklearn.manifold import TSNE\n",
    "from sklearn.model_selection  import train_test_split\n",
    "# %matplotlib inline\n",
    "#from pandas.tools.plotting import scatter_plot\n",
    "from collections import defaultdict\n",
    "import matplotlib.pyplot as plt\n",
    "import matplotlib.image as mpimg\n",
    "import matplotlib.cm as cm\n",
    "import array\n",
    "import operator"
   ]
  },
  {
   "cell_type": "code",
   "execution_count": 7,
   "metadata": {},
   "outputs": [],
   "source": [
    "fi = open(\"Face1.txt\", \"rt\")\n",
    "l = fi.readline()[:-1]\n",
    "N = int(l)\n",
    "l = fi.readline()[:-1]\n",
    "K = int(l)\n",
    "# F is list of person name\n",
    "F = [\"\" for i in range(N)]\n",
    "# P is list of pose of face\n",
    "P = [\"\" for i in range(N)]\n",
    "#X is emb matrix of all images\n",
    "X = np.zeros((N, K))\n",
    "links=[]\n",
    "for i in range(N):\n",
    "    F[i] = fi.readline()[:-1]\n",
    "    P[i] = fi.readline()[:-1]\n",
    "#    line is link of image\n",
    "    line = fi.readline()\n",
    "    links.append(line)\n",
    "    temp = np.fromstring(fi.readline()[:-1], dtype=float, sep=' ')\n",
    "    #print(i,\"..\",F[i])\n",
    "    for j in range(K):\n",
    "        X[i][j] = temp[j]\n",
    "fi.close()\n"
   ]
  },
  {
   "cell_type": "code",
   "execution_count": 10,
   "metadata": {},
   "outputs": [],
   "source": [
    "def dist_L2(X, Y):\n",
    "    # Compute L2 Distance matrix, between matrix X of size Nx P with matrix Y of size MxP\n",
    "    # and return NxM matrix distance\n",
    "    M = np.shape(X)[0]\n",
    "    N = np.shape(Y)[0]\n",
    "    Dist = np.zeros((M, N))\n",
    "    for i in range(0, M):\n",
    "        for j in range(0, N):\n",
    "            Dist[i, j] = distance.euclidean(X[i], Y[j])\n",
    "\n",
    "    return Dist"
   ]
  },
  {
   "cell_type": "code",
   "execution_count": 13,
   "metadata": {},
   "outputs": [
    {
     "name": "stdout",
     "output_type": "stream",
     "text": [
      "[[-0.148309    0.0830491   0.0488362  ...  0.022142    0.0499281\n",
      "   0.0389486 ]\n",
      " [-0.102729    0.0963553   0.0111765  ... -0.0146511   0.075693\n",
      "   0.0351896 ]\n",
      " [-0.125987    0.0723958   0.0191209  ...  0.00510832  0.0687682\n",
      "   0.0684439 ]\n",
      " ...\n",
      " [-0.202038    0.130155    0.0197721  ...  0.00381656  0.109111\n",
      "   0.057653  ]\n",
      " [-0.16707     0.143691    0.0512868  ...  0.0269642   0.130632\n",
      "   0.0994892 ]\n",
      " [-0.133108    0.128499    0.0784712  ...  0.0130199   0.0825614\n",
      "   0.0803591 ]]\n"
     ]
    }
   ],
   "source": [
    "X_train, X_test, y_train, y_test = train_test_split(X, F, test_size=100)\n",
    "# print(X_test)\n",
    "# print(X_train)\n",
    "X0 = X[F == 'TonLH':]\n",
    "X1 = X[F == 'TucNV':]\n",
    "X2 = X[F == 'DungVQ':]\n",
    "X3 = X[F == 'DucLH':]\n",
    "X4 = X[F == 'TrongDD':]\n",
    "print(X0)"
   ]
  },
  {
   "cell_type": "code",
   "execution_count": 15,
   "metadata": {},
   "outputs": [],
   "source": [
    "def getKneighbor(test,train,K):\n",
    "    distances = dist_L2(test,train)\n",
    "    neighbors = []\n",
    "    distances.sort()\n",
    "#    distances = array.array('f',sorted(distances))\n",
    "    for i in range(K):\n",
    "        neighbors.append(distances[i])\n",
    "    return neighbors"
   ]
  },
  {
   "cell_type": "code",
   "execution_count": 12,
   "metadata": {},
   "outputs": [],
   "source": [
    "def getResponse(neighbors):\n",
    "    classVotes = {}\n",
    "    for x in range(len(neighbors)):\n",
    "        response = neighbors[x][-1]\n",
    "        if response in classVotes:\n",
    "            classVotes[response] += 1\n",
    "        else:\n",
    "            classVotes[response] = 1\n",
    "    sortedVotes = sorted(classVotes.items(), key=operator.itemgetter(1), reverse=True)\n",
    "    return sortedVotes[0][0]"
   ]
  },
  {
   "cell_type": "code",
   "execution_count": 17,
   "metadata": {},
   "outputs": [
    {
     "name": "stdout",
     "output_type": "stream",
     "text": [
      "[array([0.35636622, 0.36307105, 0.36938607, 0.38003081, 0.3832155 ,\n",
      "       0.39047149, 0.39150903, 0.39521913, 0.404421  , 0.40698237,\n",
      "       0.41291211, 0.41742793, 0.41767801, 0.42541795, 0.43214817,\n",
      "       0.43472582, 0.45250273, 0.45708868, 0.48703019, 0.55435085,\n",
      "       0.55501576, 0.5560159 , 0.55941341, 0.56013807, 0.57536235,\n",
      "       0.57961839, 0.58144603, 0.58186591, 0.58507659, 0.59269772,\n",
      "       0.59366785, 0.59947899, 0.6000433 , 0.61175859, 0.61432848,\n",
      "       0.62119331, 0.62415704, 0.6252268 , 0.62591253, 0.62615718,\n",
      "       0.62794375, 0.62826631, 0.62938806, 0.63024767, 0.63029708,\n",
      "       0.63072107, 0.63647896, 0.63780516, 0.63802007, 0.64031056,\n",
      "       0.64034727, 0.64050572, 0.64128166, 0.64213871, 0.64226498,\n",
      "       0.64454085, 0.6455657 , 0.6472065 , 0.64768484, 0.64779544,\n",
      "       0.64992248, 0.65015097, 0.65189351, 0.65205302, 0.65319583,\n",
      "       0.65389632, 0.65400071, 0.65573682, 0.65857729, 0.65860285,\n",
      "       0.66187426, 0.66377764, 0.66449338, 0.6678792 , 0.67168874,\n",
      "       0.67309693, 0.67431518, 0.67497522, 0.67579278, 0.67996973,\n",
      "       0.6799811 , 0.68057159, 0.68221647, 0.68311852, 0.68533098,\n",
      "       0.6854423 , 0.68585419, 0.69119701, 0.69325114, 0.69417614,\n",
      "       0.69554416, 0.70104563, 0.70463971, 0.70509308, 0.70552914,\n",
      "       0.70679126, 0.70680736, 0.70684631, 0.70935356, 0.72292185]), array([0.21198665, 0.23440477, 0.24106528, 0.24243133, 0.24985604,\n",
      "       0.25801529, 0.28644579, 0.2874417 , 0.29533071, 0.30060779,\n",
      "       0.30467343, 0.30611417, 0.30746056, 0.31749599, 0.32055427,\n",
      "       0.32269999, 0.32536987, 0.34123745, 0.36199562, 0.36337432,\n",
      "       0.46971899, 0.49043101, 0.51105921, 0.51296017, 0.5200147 ,\n",
      "       0.52824933, 0.53718586, 0.53724289, 0.54289902, 0.54380351,\n",
      "       0.54409734, 0.54550997, 0.5464636 , 0.54987709, 0.55425042,\n",
      "       0.55631729, 0.5569075 , 0.55757451, 0.55932287, 0.55944471,\n",
      "       0.55988991, 0.56229441, 0.56418048, 0.5650105 , 0.56711357,\n",
      "       0.56725373, 0.56761599, 0.56915549, 0.57178667, 0.57332598,\n",
      "       0.57535125, 0.57601483, 0.57657594, 0.5777994 , 0.57853738,\n",
      "       0.57937071, 0.58036525, 0.58210157, 0.5831252 , 0.58346165,\n",
      "       0.5849557 , 0.58535813, 0.58934372, 0.59009135, 0.59164056,\n",
      "       0.59369826, 0.59393556, 0.59515905, 0.59580438, 0.59654109,\n",
      "       0.59676958, 0.60137822, 0.60140824, 0.60215291, 0.60320059,\n",
      "       0.60365802, 0.60376752, 0.60607327, 0.60741713, 0.60795322,\n",
      "       0.60937225, 0.60984733, 0.61269849, 0.61432008, 0.61487415,\n",
      "       0.61586936, 0.61953304, 0.62176288, 0.62185798, 0.62435748,\n",
      "       0.62444098, 0.62464521, 0.62837028, 0.63183862, 0.63428607,\n",
      "       0.64284704, 0.64853163, 0.64899367, 0.64948049, 0.67573914]), array([0.23494079, 0.24451808, 0.25387204, 0.25606863, 0.27465196,\n",
      "       0.27722486, 0.2890178 , 0.31640245, 0.32016383, 0.32210802,\n",
      "       0.32469778, 0.32614841, 0.33564308, 0.34264018, 0.35102176,\n",
      "       0.35263144, 0.36264295, 0.389299  , 0.39396915, 0.39654156,\n",
      "       0.45753423, 0.45948198, 0.46552245, 0.46552507, 0.46713211,\n",
      "       0.46919934, 0.47279242, 0.47332658, 0.47463093, 0.47549241,\n",
      "       0.49051258, 0.49344146, 0.49627515, 0.50158932, 0.50497504,\n",
      "       0.50685738, 0.50848171, 0.5090616 , 0.51276907, 0.5129728 ,\n",
      "       0.51302268, 0.51497697, 0.5150235 , 0.51569443, 0.5164907 ,\n",
      "       0.5213564 , 0.52356896, 0.52421583, 0.52622208, 0.5265704 ,\n",
      "       0.52733588, 0.52853474, 0.52937954, 0.53021149, 0.53201369,\n",
      "       0.53240495, 0.53339519, 0.53940014, 0.54079831, 0.54095604,\n",
      "       0.54482334, 0.54844883, 0.55026578, 0.55292235, 0.55295721,\n",
      "       0.55464711, 0.5548205 , 0.55774741, 0.5579022 , 0.55795054,\n",
      "       0.55920001, 0.55965972, 0.56133562, 0.56265842, 0.56591592,\n",
      "       0.56685346, 0.56785934, 0.5695351 , 0.57436858, 0.57767983,\n",
      "       0.58653225, 0.59317011, 0.59326742, 0.60912589, 0.61007193,\n",
      "       0.6135341 , 0.6155931 , 0.61697557, 0.62737834, 0.62777281,\n",
      "       0.63044498, 0.63165423, 0.63178355, 0.63188208, 0.63799896,\n",
      "       0.65124512, 0.660481  , 0.66733585, 0.67297439, 0.68961472])]\n"
     ]
    }
   ],
   "source": [
    "K = 3\n",
    "neighbors = getKneighbor(X_train,X_test,K)\n",
    "print(neighbors)"
   ]
  }
 ],
 "metadata": {
  "kernelspec": {
   "display_name": "Python 3",
   "language": "python",
   "name": "python3"
  },
  "language_info": {
   "codemirror_mode": {
    "name": "ipython",
    "version": 3
   },
   "file_extension": ".py",
   "mimetype": "text/x-python",
   "name": "python",
   "nbconvert_exporter": "python",
   "pygments_lexer": "ipython3",
   "version": "3.7.1"
  }
 },
 "nbformat": 4,
 "nbformat_minor": 2
}
