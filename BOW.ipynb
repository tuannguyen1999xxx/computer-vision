{
 "cells": [
  {
   "cell_type": "code",
   "execution_count": 1,
   "metadata": {},
   "outputs": [],
   "source": [
    "import datetime\n",
    "import cv2\n",
    "import os\n",
    "import numpy as np\n",
    "from sklearn.cluster import KMeans\n",
    "from sklearn.model_selection import train_test_split"
   ]
  },
  {
   "cell_type": "code",
   "execution_count": 2,
   "metadata": {
    "scrolled": true
   },
   "outputs": [
    {
     "name": "stdout",
     "output_type": "stream",
     "text": [
      "0:00:52.527763\n"
     ]
    }
   ],
   "source": [
    "start = datetime.datetime.now()\n",
    "sift = cv2.xfeatures2d.SIFT_create()\n",
    "image_path_list = []\n",
    "\n",
    "for label in os.listdir(\"BOW\"):\n",
    "    image_path_list.append(os.path.join(\"BOW\", label))\n",
    "    \n",
    "des_list = []\n",
    "des_list1 = []\n",
    "labels = []\n",
    "count = 0\n",
    "for path in image_path_list:\n",
    "    for file_name in os.listdir(path):\n",
    "        #print(file_name)\n",
    "        count = count +1\n",
    "        img = cv2.imread(os.path.join(path,file_name),2)\n",
    "        #gray = cv2.cvtColor(img,cv2.COLOR_BGR2GRAY)\n",
    "        kp,des = sift.detectAndCompute(img,None)\n",
    "        des_list1.append(des)\n",
    "        labels.append(path)\n",
    "        for i in range(len(des)):\n",
    "            if i%5 == 0: \n",
    "                des_list.append(des[i])\n",
    "#des_list = np.asarray(des_list)\n",
    "#des_list = np.concatenate(des_list,axis=0)\n",
    "count\n",
    "end = datetime.datetime.now()\n",
    "print(end-start)"
   ]
  },
  {
   "cell_type": "code",
   "execution_count": 5,
   "metadata": {},
   "outputs": [],
   "source": [
    "\n",
    "import pickle\n",
    "with open('test2.pkl', 'wb') as handle:\n",
    "    pickle.dump((labels), handle)"
   ]
  },
  {
   "cell_type": "code",
   "execution_count": 4,
   "metadata": {},
   "outputs": [
    {
     "name": "stdout",
     "output_type": "stream",
     "text": [
      "0:28:27.265338\n"
     ]
    }
   ],
   "source": [
    "start = datetime.datetime.now()\n",
    "kmeans = KMeans(n_clusters=250).fit(des_list)\n",
    "end = datetime.datetime.now()\n",
    "print(end-start)"
   ]
  },
  {
   "cell_type": "code",
   "execution_count": 5,
   "metadata": {},
   "outputs": [],
   "source": [
    "visual_word = kmeans.cluster_centers_"
   ]
  },
  {
   "cell_type": "code",
   "execution_count": 6,
   "metadata": {},
   "outputs": [],
   "source": [
    "def build_histogram(descriptor_list, cluster_alg):\n",
    "    histogram = np.zeros(len(cluster_alg.cluster_centers_))\n",
    "    cluster_result =  cluster_alg.predict(descriptor_list)\n",
    "    for i in cluster_result:\n",
    "        histogram[i] += 1.0\n",
    "    return histogram"
   ]
  },
  {
   "cell_type": "code",
   "execution_count": 9,
   "metadata": {},
   "outputs": [],
   "source": [
    "preprocessed_image = []\n",
    "label = []\n",
    "for path in image_path_list:\n",
    "    for file_name in os.listdir(path):\n",
    "        img = cv2.imread(os.path.join(path,file_name))\n",
    "        gray = cv2.cvtColor(img,cv2.COLOR_BGR2GRAY)\n",
    "        kp,des = sift.detectAndCompute(gray,None)\n",
    "        if (des is not None):\n",
    "            histogram = build_histogram(des, kmeans)\n",
    "            preprocessed_image.append(histogram)\n",
    "            label.append(path)"
   ]
  },
  {
   "cell_type": "code",
   "execution_count": 10,
   "metadata": {
    "scrolled": true
   },
   "outputs": [
    {
     "name": "stdout",
     "output_type": "stream",
     "text": [
      "Accuracy1 59.76 %\n"
     ]
    }
   ],
   "source": [
    "from sklearn import neighbors\n",
    "from sklearn.metrics import accuracy_score\n",
    "from sklearn.model_selection import train_test_split\n",
    "\n",
    "\n",
    "X_train, X_test, y_train, y_test = train_test_split(preprocessed_image,label, test_size=0.3, random_state=0)\n",
    "\n",
    "clf = neighbors.KNeighborsClassifier(n_neighbors = 10)\n",
    "clf.fit(X_train, y_train)\n",
    "y_pred = clf.predict(X_test)\n",
    "\n",
    "print(\"Accuracy1 %.2f %%\" %(100*accuracy_score(y_test, y_pred)))\n"
   ]
  },
  {
   "cell_type": "code",
   "execution_count": 11,
   "metadata": {
    "scrolled": false
   },
   "outputs": [
    {
     "name": "stdout",
     "output_type": "stream",
     "text": [
      "Accuracy2 66.57 %\n"
     ]
    }
   ],
   "source": [
    "from sklearn import svm\n",
    "clf = svm.SVC(kernel='linear')\n",
    "clf.fit(X_train,y_train)\n",
    "y_predict = clf.predict(X_test)\n",
    "print(\"Accuracy2 %.2f %%\" %(100*accuracy_score(y_test, y_predict)))"
   ]
  },
  {
   "cell_type": "code",
   "execution_count": 12,
   "metadata": {},
   "outputs": [],
   "source": [
    "import pickle\n",
    "with open('test1.pkl', 'wb') as handle:\n",
    "    pickle.dump((kmeans,visual_word,preprocessed_image), handle)"
   ]
  }
 ],
 "metadata": {
  "kernelspec": {
   "display_name": "Python 3",
   "language": "python",
   "name": "python3"
  }
 },
 "nbformat": 4,
 "nbformat_minor": 2
}
