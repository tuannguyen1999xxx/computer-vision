{
 "cells": [
  {
   "cell_type": "code",
   "execution_count": 1,
   "metadata": {},
   "outputs": [],
   "source": [
    "import pickle\n",
    "with open('test1.pkl', 'rb') as handle:\n",
    "    (kmeans,visual_word,digital_image)= pickle.load(handle)\n",
    "with open('test2.pkl','rb') as handles:\n",
    "    (labels) = pickle.load(handles)"
   ]
  },
  {
   "cell_type": "code",
   "execution_count": 2,
   "metadata": {},
   "outputs": [],
   "source": [
    "def build_histogram(descriptor_list, cluster_alg):\n",
    "    histogram = np.zeros(len(cluster_alg.cluster_centers_))\n",
    "    cluster_result =  cluster_alg.predict(descriptor_list)\n",
    "    for i in cluster_result:\n",
    "        histogram[i] += 1.0\n",
    "    return histogram"
   ]
  },
  {
   "cell_type": "code",
   "execution_count": 3,
   "metadata": {},
   "outputs": [],
   "source": [
    "def extract_denseSIFT(img):\n",
    "    DSIFT_STEP_SIZE = 2\n",
    "    sift = cv2.xfeatures2d.SIFT_create()\n",
    "    disft_step_size = DSIFT_STEP_SIZE\n",
    "    keypoints = [cv2.KeyPoint(x, y, disft_step_size)\n",
    "            for y in range(0, img.shape[0], disft_step_size)\n",
    "                for x in range(0, img.shape[1], disft_step_size)]\n",
    "    descriptors = sift.compute(img, keypoints)[1]\n",
    "#     gray = cv2.cvtColor(img,cv2.COLOR_BGR2GRAY)\n",
    "#     keypoints, descriptors = sift.detectAndCompute(gray, None)\n",
    "    return descriptors\n",
    "\n",
    "\n",
    "# form histogram with Spatial Pyramid Matching upto level L with codebook kmeans and k codewords\n",
    "def getImageFeaturesSPM(L, img, kmeans, k):\n",
    "    W = img.shape[1]\n",
    "    H = img.shape[0]   \n",
    "    h = []\n",
    "    for l in range(L+1):\n",
    "        w_step = math.floor(W/(2**l))\n",
    "        h_step = math.floor(H/(2**l))\n",
    "        x, y = 0, 0\n",
    "        for i in range(1,2**l + 1):\n",
    "            x = 0\n",
    "            for j in range(1, 2**l + 1):                \n",
    "                des = extract_denseSIFT(img[y:y+h_step, x:x+w_step])                \n",
    "                histo = build_histogram(des,kmeans)\n",
    "                weight = 2**(l-L)\n",
    "                h.append(weight*histo)\n",
    "                #print(len(h))\n",
    "                x = x + w_step\n",
    "            y = y + h_step\n",
    "            \n",
    "    hist = np.array(h).ravel()\n",
    "    # normalize hist\n",
    "    dev = np.std(hist)\n",
    "    hist -= np.mean(hist)\n",
    "    hist /= dev\n",
    "    return hist"
   ]
  },
  {
   "cell_type": "code",
   "execution_count": 31,
   "metadata": {
    "scrolled": true
   },
   "outputs": [
    {
     "data": {
      "text/plain": [
       "109755"
      ]
     },
     "execution_count": 31,
     "metadata": {},
     "output_type": "execute_result"
    }
   ],
   "source": [
    "len(des_list)"
   ]
  },
  {
   "cell_type": "code",
   "execution_count": 4,
   "metadata": {
    "scrolled": true
   },
   "outputs": [
    {
     "name": "stdout",
     "output_type": "stream",
     "text": [
      "0:16:56.035598\n"
     ]
    }
   ],
   "source": [
    "import datetime\n",
    "start = datetime.datetime.now()\n",
    "count = 0\n",
    "import math\n",
    "import numpy as np\n",
    "import cv2\n",
    "import os\n",
    "image_path_list = []\n",
    "sift = cv2.xfeatures2d.SIFT_create()\n",
    "for label in os.listdir(\"BOW\"):\n",
    "    image_path_list.append(os.path.join(\"BOW\", label))\n",
    "preprocessed_image = []\n",
    "for path in image_path_list:\n",
    "    for file_name in os.listdir(path):\n",
    "        img = cv2.imread(os.path.join(path,file_name))\n",
    "        histogram = getImageFeaturesSPM(1,img,kmeans,500)\n",
    "        #print(count)\n",
    "        preprocessed_image.append(histogram)\n",
    "        #count += 1\n",
    "end = datetime.datetime.now()\n",
    "print(end-start)"
   ]
  },
  {
   "cell_type": "code",
   "execution_count": 7,
   "metadata": {
    "scrolled": true
   },
   "outputs": [
    {
     "data": {
      "text/plain": [
       "1250"
      ]
     },
     "execution_count": 7,
     "metadata": {},
     "output_type": "execute_result"
    }
   ],
   "source": [
    "len(preprocessed_image[0])"
   ]
  },
  {
   "cell_type": "markdown",
   "metadata": {},
   "source": [
    "+ level 0-500d = len(visual_word)\n",
    "+ level 1-2500d\n",
    "+ level 2-10500d\n",
    "+ Vector được extract cuối cùng của level đó sẽ bao gồm cả vector của level trước đó.\n",
    "time: lv0: 0:04:43.394424 lv1: 0:09:05.957715"
   ]
  },
  {
   "cell_type": "code",
   "execution_count": 6,
   "metadata": {
    "scrolled": true
   },
   "outputs": [
    {
     "data": {
      "text/plain": [
       "array([-0.56420845, -0.57796964, -0.81190973, -0.66053673,  0.605492  ,\n",
       "       -0.68805909, -0.26146245, -0.79814854,  1.01832745, -0.77062618,\n",
       "       -0.26146245, -0.454119  , -0.74310382, -0.44035782, -0.42659664,\n",
       "       -0.01376118, -0.49540254, -0.70182027, -0.35779073,  1.91280427,\n",
       "        0.74310382,  0.44035782, -0.23394009,  0.61925318, -0.28898482,\n",
       "       -0.52292491, -0.77062618,  0.27522364,  3.784325  , -0.63301436,\n",
       "       -0.74310382,  0.77062618, -0.27522364, -0.35779073, -0.19265655,\n",
       "        0.35779073,  0.04128355, -0.72934264, -0.82567091,  0.605492  ,\n",
       "       -0.605492  , -0.61925318, -0.19265655,  1.63758063,  0.26146245,\n",
       "        1.92656545,  0.74310382, -0.605492  ,  0.04128355, -0.74310382,\n",
       "       -0.52292491, -0.46788018, -0.77062618, -0.55044727,  0.09632827,\n",
       "       -0.72934264, -0.41283545, -0.72934264,  0.64677554, -0.09632827,\n",
       "       -0.50916373,  1.10089454, -0.16513418, -0.756865  , -0.50916373,\n",
       "       -0.55044727, -0.27522364, -0.71558145, -0.82567091, -0.20641773,\n",
       "        0.86695445, -0.71558145, -0.42659664, -0.04128355, -0.41283545,\n",
       "        0.31650718,  0.12385064, -0.26146245, -0.454119  , -0.42659664,\n",
       "       -0.82567091,  3.42653427, -0.605492  , -0.31650718, -0.67429791,\n",
       "       -0.59173082, -0.605492  , -0.79814854, -0.72934264, -0.34402955,\n",
       "       -0.68805909,  2.16050554, -0.41283545, -0.38531309, -0.68805909,\n",
       "        0.05504473,  0.02752236, -0.41283545,  1.07337218, -0.31650718,\n",
       "        0.34402955, -0.46788018, -0.05504473, -0.68805909,  0.81190973,\n",
       "        4.58247354, -0.605492  , -0.23394009, -0.48164136,  1.63758063,\n",
       "       -0.39907427,  0.01376118, -0.56420845, -0.26146245,  3.04122118,\n",
       "       -0.59173082, -0.33026836, -0.64677554,  0.35779073, -0.42659664,\n",
       "        4.16963809,  3.53662372,  0.12385064,  1.34859582, -0.44035782,\n",
       "       -0.756865  ,  0.46788018, -0.39907427, -0.24770127, -0.66053673,\n",
       "       -0.57796964, -0.50916373, -0.52292491, -0.756865  ,  0.26146245,\n",
       "        0.06880591, -0.70182027,  2.07793845, -0.302746  , -0.09632827,\n",
       "       -0.02752236, -0.56420845, -0.63301436, -0.151373  , -0.57796964,\n",
       "       -0.49540254, -0.46788018, -0.70182027, -0.74310382, -0.67429791,\n",
       "       -0.33026836, -0.70182027, -0.16513418, -0.19265655,  1.07337218,\n",
       "        1.08713336,  2.77975872, -0.48164136, -0.39907427, -0.53668609,\n",
       "       -0.09632827, -0.46788018, -0.67429791, -0.63301436, -0.38531309,\n",
       "        0.52292491,  0.12385064, -0.77062618,  0.85319327,  0.01376118,\n",
       "        0.16513418, -0.27522364, -0.50916373, -0.12385064, -0.302746  ,\n",
       "       -0.454119  , -0.41283545, -0.71558145,  0.09632827, -0.44035782,\n",
       "       -0.04128355,  0.66053673, -0.16513418, -0.44035782, -0.48164136,\n",
       "        2.05041609, -0.77062618,  0.17889536,  1.83023718, -0.39907427,\n",
       "        0.23394009, -0.77062618, -0.56420845, -0.66053673, -0.26146245,\n",
       "       -0.44035782, -0.63301436, -0.81190973, -0.71558145, -0.61925318,\n",
       "        1.38987936, -0.11008945,  3.45405663, -0.454119  , -0.12385064,\n",
       "       -0.605492  , -0.82567091,  3.11002709,  1.58253591,  0.55044727,\n",
       "        1.99537136, -0.35779073,  2.07793845, -0.605492  , -0.01376118,\n",
       "       -0.55044727, -0.19265655,  1.55501354,  2.46325154,  1.18346164,\n",
       "       -0.27522364,  1.38987936, -0.53668609, -0.72934264, -0.74310382,\n",
       "        0.08256709, -0.66053673,  2.69719163, -0.56420845, -0.82567091,\n",
       "       -0.74310382, -0.38531309,  0.16513418, -0.77062618, -0.44035782,\n",
       "        1.059611  , -0.33026836, -0.74310382, -0.55044727,  2.35316209,\n",
       "       -0.67429791, -0.63301436, -0.41283545, -0.49540254,  0.11008945,\n",
       "       -0.70182027, -0.48164136, -0.16513418, -0.12385064, -0.68805909])"
      ]
     },
     "execution_count": 6,
     "metadata": {},
     "output_type": "execute_result"
    }
   ],
   "source": [
    "preprocessed_image[1]"
   ]
  },
  {
   "cell_type": "code",
   "execution_count": 7,
   "metadata": {},
   "outputs": [
    {
     "name": "stdout",
     "output_type": "stream",
     "text": [
      "Accuracy2 77.43 %\n"
     ]
    }
   ],
   "source": [
    "from sklearn.cluster import KMeans\n",
    "from sklearn.model_selection import train_test_split\n",
    "from sklearn.metrics import accuracy_score\n",
    "from sklearn import svm\n",
    "\n",
    "X_train, X_test, y_train, y_test = train_test_split(preprocessed_image,labels, test_size=0.2, random_state=0)\n",
    "\n",
    "clf = svm.SVC(kernel='linear')\n",
    "clf.fit(X_train,y_train)\n",
    "y_predict = clf.predict(X_test)\n",
    "print(\"Accuracy2 %.2f %%\" %(100*accuracy_score(y_test, y_predict)))"
   ]
  },
  {
   "cell_type": "code",
   "execution_count": 19,
   "metadata": {
    "scrolled": true
   },
   "outputs": [
    {
     "name": "stdout",
     "output_type": "stream",
     "text": [
      "Accuracy1 69.91 %\n"
     ]
    }
   ],
   "source": [
    "from sklearn import neighbors\n",
    "from sklearn.metrics import accuracy_score\n",
    "\n",
    "clf = neighbors.KNeighborsClassifier(n_neighbors = 10)\n",
    "clf.fit(X_train, y_train)\n",
    "y_pred = clf.predict(X_test)\n",
    "\n",
    "print(\"Accuracy1 %.2f %%\" %(100*accuracy_score(y_test, y_pred)))\n"
   ]
  },
  {
   "cell_type": "markdown",
   "metadata": {},
   "source": [
    "(Ảnh đen trắng)\n",
    "với visual word = 500:\n",
    "+ BOW KNN: 60,26%,SVM: 70,21%\n",
    "+ SVM level 0: 77.43% level 1:82.30% level 2: 84,07%\n",
    "+ KNN level 0: 65.49% level 1:69.91% level 2: 75,22%\n",
    "\n",
    "với visual word = 250:\n",
    "+ BOW KNN: 59,76%,SVM: 66,57%\n",
    "+ SVM level 0:78.32% level 1:83.63% level 2: 84.96%\n",
    "+ KNN level 0:69.03% level 1:71.68% level 2: 76,55%"
   ]
  },
  {
   "cell_type": "code",
   "execution_count": 30,
   "metadata": {},
   "outputs": [
    {
     "data": {
      "text/plain": [
       "1126"
      ]
     },
     "execution_count": 30,
     "metadata": {},
     "output_type": "execute_result"
    }
   ],
   "source": [
    "# import os\n",
    "# import cv2\n",
    "# import math\n",
    "# image_path_list = []\n",
    "# sift = cv2.xfeatures2d.SIFT_create()\n",
    "# for label in os.listdir(\"BOW\"):\n",
    "#     image_path_list.append(os.path.join(\"BOW\", label))\n",
    "# des_list = []\n",
    "# des_list1 = []\n",
    "# labels = []\n",
    "# count = 0\n",
    "# for path in image_path_list:\n",
    "#     for file_name in os.listdir(path):\n",
    "#         #print(file_name)\n",
    "#         count = count +1\n",
    "#         img = cv2.imread(os.path.join(path,file_name),2)\n",
    "#         #gray = cv2.cvtColor(img,cv2.COLOR_BGR2GRAY)\n",
    "#         kp,des = sift.detectAndCompute(img,None)\n",
    "#         des_list1.append(des)\n",
    "#         labels.append(path)\n",
    "#         for i in range(len(des)):\n",
    "#             if i%5 == 0: \n",
    "#                 des_list.append(des[i])\n",
    "# #des_list = np.asarray(des_list)\n",
    "# #des_list = np.concatenate(des_list,axis=0)\n",
    "# count"
   ]
  },
  {
   "cell_type": "code",
   "execution_count": 5,
   "metadata": {},
   "outputs": [],
   "source": [
    "with open('SPM_feature.pkl', 'wb') as handle:\n",
    "    pickle.dump((preprocessed_image), handle)"
   ]
  }
 ],
 "metadata": {
  "kernelspec": {
   "display_name": "Python 3",
   "language": "python",
   "name": "python3"
  },
  "language_info": {
   "codemirror_mode": {
    "name": "ipython",
    "version": 3
   },
   "file_extension": ".py",
   "mimetype": "text/x-python",
   "name": "python",
   "nbconvert_exporter": "python",
   "pygments_lexer": "ipython3",
   "version": "3.7.1"
  }
 },
 "nbformat": 4,
 "nbformat_minor": 2
}
