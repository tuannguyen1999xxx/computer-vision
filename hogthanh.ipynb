{
 "cells": [
  {
   "cell_type": "code",
   "execution_count": 1,
   "metadata": {
    "pycharm": {
     "is_executing": false,
     "name": "#%%\n"
    },
    "scrolled": true
   },
   "outputs": [
    {
     "name": "stderr",
     "output_type": "stream",
     "text": [
      "C:\\Users\\Admin\\Anaconda3\\lib\\site-packages\\ipykernel_launcher.py:38: RuntimeWarning: invalid value encountered in double_scalars\n"
     ]
    },
    {
     "name": "stdout",
     "output_type": "stream",
     "text": [
      "xong\n"
     ]
    }
   ],
   "source": [
    "import cv2\n",
    "import numpy as np\n",
    "import math\n",
    "import os\n",
    "def preprocessing(pre_mag,pre_angle):#get magnitude and angle from RGB gradient images\n",
    "    return_mag=np.zeros([128,64])\n",
    "    return_angle=np.zeros([128,64])\n",
    "    for i in range(128):\n",
    "        for j in range(64):\n",
    "            return_mag[i][j]=max(pre_mag[i][j])\n",
    "            return_angle[i][j]=pre_angle[i][j][list(pre_mag[i][j]).index(return_mag[i][j])]\n",
    "    return return_mag,return_angle\n",
    "\n",
    "def buildHistogram(cell_mag,cell_angle):#build histogram for 8x8 cell\n",
    "    histogram=np.zeros(9)\n",
    "    for i in range(0,8):\n",
    "        for j in range(0,8):\n",
    "            if cell_angle[i][j]>180:\n",
    "                cell_angle[i][j]=cell_angle[i][j]-180\n",
    "            a=int(cell_angle[i][j]/20)\n",
    "            if(a<8):\n",
    "                histogram[a]=histogram[a]+float((cell_angle[i][j]-a*20)/20)*cell_mag[i][j]\n",
    "                histogram[a+1]=histogram[a+1]+float((-cell_angle[i][j]+(a+1)*20)/20)*cell_mag[i][j]\n",
    "            if(a==8):\n",
    "                histogram[8]=histogram[8]+float((cell_angle[i][j]-160)/20)*cell_mag[i][j]\n",
    "                histogram[0]=histogram[0]+float((180-cell_angle[i][j])/20)*cell_mag[i][j]\n",
    "    return histogram\n",
    "\n",
    "def block_Normalization(block_hist):#normalize 16x16 block return 36x1 vector\n",
    "    sum=0\n",
    "    for hist in block_hist:\n",
    "        for i in hist:\n",
    "            sum=sum+i*i\n",
    "    sum=math.sqrt(sum)\n",
    "    return_hist=[]\n",
    "    for hist in block_hist:\n",
    "        for i in hist:\n",
    "            return_hist.append(float(i/sum))\n",
    "    return return_hist\n",
    "\n",
    "def histogramforpatch(patch):#build histogram for 128x64 patch\n",
    "    patch = np.float32(patch) / 255.0\n",
    "    patch = cv2.resize(patch, (64, 128))\n",
    "    gx = cv2.Sobel(patch, cv2.CV_32F, 1, 0, ksize=1)\n",
    "    gy = cv2.Sobel(patch, cv2.CV_32F, 0, 1, ksize=1)\n",
    "    pre_mag, pre_angle = cv2.cartToPolar(gx, gy, angleInDegrees=True)\n",
    "    mag,angle=preprocessing(pre_mag,pre_angle)\n",
    "    histograms = []\n",
    "    h, w = patch.shape[:2]  # w=64,h=128\n",
    "    for i in range(0, h - 8 + 1, 8):\n",
    "        histogram_x = []\n",
    "        for j in range(0, w - 8 + 1, 8):\n",
    "            cell_mag = mag[i:i + 8, j:j + 8]\n",
    "            cell_angle = angle[i:i + 8, j:j + 8]\n",
    "            hist = buildHistogram(cell_mag, cell_angle)\n",
    "            histogram_x.append(hist)       \n",
    "        histograms.append(histogram_x)  \n",
    "    # histograms (16,8,9)\n",
    "    h_hist = len(histograms)\n",
    "    w_hist = len(histograms[0])\n",
    "    hist_normalization = []\n",
    "    for i in range(h_hist - 1):\n",
    "        for j in range(w_hist - 1):\n",
    "            new_hist = block_Normalization(\n",
    "                [histograms[i][j], histograms[i][j + 1], histograms[i + 1][j], histograms[i + 1][j + 1]])\n",
    "            hist_normalization.append(new_hist)    \n",
    "    return hist_normalization#(105,36)\n",
    "\n",
    "def flatten(lists):#make hist_normalization (105,36) -> (105*36,1)\n",
    "    return_list=[]\n",
    "    for list in lists:\n",
    "        for i in list:\n",
    "            return_list.append(i)\n",
    "    return return_list\n",
    "\n",
    "def prepare():#get histogram and label for train and test\n",
    "    histogram=[]\n",
    "    label=[]   \n",
    "    for object in objects:\n",
    "        img_names=os.listdir('BOW/'+object)\n",
    "        for img_name in img_names:\n",
    "            img=cv2.imread('BOW/'+object+'/'+img_name)\n",
    "            hist=flatten(histogramforpatch(img))\n",
    "            if(not np.any(np.isnan(hist))):\n",
    "                histogram.append(hist)\n",
    "                label.append(objects.index(object))\n",
    "    return histogram,label\n",
    "\n",
    "objects=os.listdir('BOW')\n",
    "histogram,label=prepare()\n",
    "print('xong')"
   ]
  },
  {
   "cell_type": "code",
   "execution_count": 2,
   "metadata": {
    "pycharm": {
     "is_executing": false,
     "name": "#%%\n"
    },
    "scrolled": true
   },
   "outputs": [
    {
     "name": "stdout",
     "output_type": "stream",
     "text": [
      "Accuracy2 87.44 %\n"
     ]
    }
   ],
   "source": [
    "from sklearn import svm\n",
    "from sklearn.model_selection import train_test_split\n",
    "from sklearn.metrics import accuracy_score\n",
    "clf=svm.SVC(kernel='linear')\n",
    "X_train,X_test,Y_train,Y_test=train_test_split(histogram,label,test_size=0.2,random_state = 0)\n",
    "clf.fit(X_train,Y_train)\n",
    "Y_predict=clf.predict(X_test)\n",
    "print('Accuracy2 %.2f %%' %(100*accuracy_score(Y_test,Y_predict)))"
   ]
  },
  {
   "cell_type": "code",
   "execution_count": 15,
   "metadata": {},
   "outputs": [
    {
     "data": {
      "text/plain": [
       "1033"
      ]
     },
     "execution_count": 15,
     "metadata": {},
     "output_type": "execute_result"
    }
   ],
   "source": [
    "len(label)"
   ]
  },
  {
   "cell_type": "code",
   "execution_count": 3,
   "metadata": {},
   "outputs": [
    {
     "name": "stdout",
     "output_type": "stream",
     "text": [
      "Accuracy1 74.40 %\n"
     ]
    }
   ],
   "source": [
    "from sklearn import neighbors\n",
    "from sklearn.metrics import accuracy_score\n",
    "clf = neighbors.KNeighborsClassifier(n_neighbors = 25)\n",
    "clf.fit(X_train, Y_train)\n",
    "y_pred = clf.predict(X_test)\n",
    "\n",
    "print(\"Accuracy1 %.2f %%\" %(100*accuracy_score(Y_test, y_pred)))\n"
   ]
  },
  {
   "cell_type": "code",
   "execution_count": 4,
   "metadata": {},
   "outputs": [
    {
     "data": {
      "text/plain": [
       "3780"
      ]
     },
     "execution_count": 4,
     "metadata": {},
     "output_type": "execute_result"
    }
   ],
   "source": [
    "len(histogram[0])"
   ]
  },
  {
   "cell_type": "code",
   "execution_count": 8,
   "metadata": {},
   "outputs": [],
   "source": [
    "import pickle\n",
    "with open('hog_feature.pkl','wb') as handle:\n",
    "    pickle.dump((histogram,label),handle)"
   ]
  }
 ],
 "metadata": {
  "kernelspec": {
   "display_name": "Python 3",
   "language": "python",
   "name": "python3"
  },
  "language_info": {
   "codemirror_mode": {
    "name": "ipython",
    "version": 3
   },
   "file_extension": ".py",
   "mimetype": "text/x-python",
   "name": "python",
   "nbconvert_exporter": "python",
   "pygments_lexer": "ipython3",
   "version": "3.7.1"
  },
  "pycharm": {
   "stem_cell": {
    "cell_type": "raw",
    "metadata": {
     "collapsed": false
    },
    "source": []
   }
  }
 },
 "nbformat": 4,
 "nbformat_minor": 1
}
