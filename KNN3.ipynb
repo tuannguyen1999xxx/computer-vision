{
 "cells": [
  {
   "cell_type": "code",
   "execution_count": 1,
   "metadata": {},
   "outputs": [],
   "source": [
    "import numpy as np\n",
    "from scipy.spatial import  distance\n",
    "import array\n",
    "import operator\n",
    "import pandas as pd\n",
    "import math\n",
    "import random"
   ]
  },
  {
   "cell_type": "code",
   "execution_count": 2,
   "metadata": {},
   "outputs": [],
   "source": [
    "fi = open(\"Face.txt\", \"rt\")\n",
    "l = fi.readline()[:-1]\n",
    "N = int(l)\n",
    "l = fi.readline()[:-1]\n",
    "K = int(l)\n",
    "# F is list of person name\n",
    "F = [\"\" for i in range(N)]\n",
    "# P is list of pose of face\n",
    "P = [\"\" for i in range(N)]\n",
    "#X is emb matrix of all images\n",
    "X = np.zeros((N, K))\n",
    "links=[]\n",
    "for i in range(N):\n",
    "    F[i] = fi.readline()[:-1]\n",
    "    P[i] = fi.readline()[:-1]\n",
    "#    line is link of image\n",
    "    line = fi.readline()\n",
    "    links.append(line)\n",
    "    temp = np.fromstring(fi.readline()[:-1], dtype=float, sep=' ')\n",
    "    #print(i,\"..\",F[i])\n",
    "    for j in range(K):\n",
    "        X[i][j] = temp[j]\n",
    "fi.close()"
   ]
  },
  {
   "cell_type": "code",
   "execution_count": 3,
   "metadata": {},
   "outputs": [],
   "source": [
    "#Prepare data\n",
    "X = list(X)\n",
    "for i in range(len(X)):\n",
    "    X[i] = list(X[i])\n",
    "    X[i].append(F[i])\n",
    "X_train = []\n",
    "X_test = []\n",
    "for i in range(len(X)):\n",
    "    if(i%3 == 0):\n",
    "        X_train.append(X[i])\n",
    "    else:\n",
    "        X_test.append(X[i])\n",
    "np.random.shuffle(X_test)"
   ]
  },
  {
   "cell_type": "code",
   "execution_count": 4,
   "metadata": {},
   "outputs": [],
   "source": [
    "def euclideanDistance(instance1, instance2, length):\n",
    "    distance = 0\n",
    "    for x in range(length):\n",
    "        distance += pow((instance1[x] - instance2[x]), 2)\n",
    "    return math.sqrt(distance)"
   ]
  },
  {
   "cell_type": "code",
   "execution_count": 5,
   "metadata": {},
   "outputs": [],
   "source": [
    "def getNeighbors(trainingSet, testInstance, k):\n",
    "    distances = []\n",
    "    length = len(testInstance)-1\n",
    "    for x in range(len(trainingSet)):\n",
    "        dist = euclideanDistance(testInstance, trainingSet[x], length)\n",
    "        distances.append((trainingSet[x], dist))\n",
    "    distances.sort(key = operator.itemgetter(1))\n",
    "    neighbors = []\n",
    "    for x in range(k):\n",
    "        neighbors.append(distances[x][0])\n",
    "    return neighbors\n"
   ]
  },
  {
   "cell_type": "code",
   "execution_count": 6,
   "metadata": {},
   "outputs": [],
   "source": [
    "def getResponse(neigbors):\n",
    "    classVote = {}\n",
    "    for x in range(len(neighbors)):\n",
    "        response = neighbors[x][-1]\n",
    "        if response in classVote:\n",
    "            classVote[response] += 1\n",
    "        else:\n",
    "            classVote[response] = 1\n",
    "        sortedVotes = sorted(classVote.items(), key=operator.itemgetter(1), reverse=True)\n",
    "    return sortedVotes[0][0]\n"
   ]
  },
  {
   "cell_type": "code",
   "execution_count": 7,
   "metadata": {},
   "outputs": [],
   "source": [
    "def getAccuracy(testSet, predictions):\n",
    "    correct = 0\n",
    "    for x in range(len(testSet)):\n",
    "        if testSet[x] == predictions[x]:\n",
    "            correct += 1\n",
    "    return (correct/float(len(testSet)))*100.0"
   ]
  },
  {
   "cell_type": "code",
   "execution_count": 10,
   "metadata": {},
   "outputs": [
    {
     "name": "stdout",
     "output_type": "stream",
     "text": [
      "['QuanVA', 'PhucLee', 'TanLD', 'ThinhNH', 'DungVQ', 'BinhCX', 'ThanhNN', 'TonLH', 'CuongVL', 'DucVA', 'ThanhND', 'ThanhND', 'ThinhNH', 'PhucLee', 'TanLD', 'DungVQ', '15113516', 'ThanhND', 'ThuyNV', 'DucLH', 'HaLuuManh', '15113516', 'VietHM', 'SonHViettel', 'BinhCX', 'ThanhND', 'TucNV', 'ThanhND', 'ThinhNH', 'TucNV', 'ThinhNH', 'VuTP', 'DucLH', 'TucNV', 'LongNP', 'HaLeManh', 'DucVA', 'ThanhND', 'ThanhND', 'PhucLee', 'ThuyNT', 'DucLH', 'LongNP', 'HaLuuManh', '11122528', 'ThienBD', '11122528', 'PhucLee', 'ThanhND', 'CuongVL', 'HuongNTM', 'ThanhND', 'NamND', 'TungTH', 'ThinhNH', 'ThuyNT', 'HaLuuManh', '12084316', 'ThienBD', 'ToanTX', 'DungVQ', 'HueLT', 'DucNM', 'PhucLee', 'PhucLee', 'TungTH', 'HaLuuManh', '12141308', 'DucLH', 'NhungNT', 'ThinhNH', '11122528', 'HueLT', 'TrongDD', 'PhucLee', 'HaLuuManh', 'TungTH', 'HueLT', 'TrongDD', 'ThienBD', 'VietHM', 'HueLT', 'CuongVL', 'LongNP', 'TucNV', 'PhucLee', 'PhucLee', 'PLan-Tu', 'VuTP', 'HaLuuManh', 'TucNV', 'DucLH', 'NamND', 'HaLeManh', 'ThanhNN', 'TungTH', 'BinhCX', 'TungTH', '15113516', 'LongNP', 'HaLeManh', 'DucLH', '11171416', 'BinhCX', 'ThuyNT', '06172733', 'TonLH', 'CuongVL', 'DucLH', '11122528', 'NT-Hung', 'DucLH', 'HaLuuManh', 'DongPD', 'DungVQ', '12135608', 'Duc', 'BinhCX', 'ThanhND', 'ThinhNH', 'BinhCX', 'HaLeManh', 'TucNV', 'ThinhNH', 'CuongVL', 'NamND', 'NamND', 'CuongVL', 'CuongVL', 'VV-Vien', 'LongNP', '12135608', 'PhucLee', 'DungVQ', '12193002', '15113516', 'BinhCX', 'DungVQ', 'LuanNT', 'TanLD', 'TungTH', 'PhucLee', 'VV-Vien', 'HaLuuManh', 'HuongNTM', 'NamND', 'VuTP', 'VietHM', 'VuTP', 'HueLT', 'TrongDD', 'Duc', 'NamND', '11171416', 'TucNV', 'TrongDD', 'VuTP', 'TanLD', 'VuTP', 'TucNV', 'TanLD', 'PhucLee', 'ThienBD', 'HueLT', 'LongNP', 'PhucLee', 'TungTH', 'TanLD', 'LongNP', 'NamND', '08162629', 'CuongVL', 'NhungNT', 'PhucLee', 'HaLuuManh', '12141308', 'ThuyNT', '15113516', 'HaLeManh', 'NamND', 'ThuyNT', 'ThuyNT', 'TucNV', 'ThanhNN', 'DucLH', 'DucLH', 'HaLuuManh', 'TucNV', 'DucVA', '12135608', 'ThanhNN', 'BinhCX', 'NhungNT', 'DungVQ', 'QuanVA', 'PhucLee', 'ThanhNN', 'HaLeManh', 'PhucLee', 'HaLeManh', 'PLan-Tu', 'DungVQ', 'LongNP', 'ToanTX', 'ThuyNT', '06172733', 'VietHM', 'NamND', 'HaLuuManh', 'TungTH', 'BinhCX', 'ThanhNN', 'TanLD', 'CuongVL', 'VuTP', 'HaLeManh', 'ThanhNN', 'ThuyNT', 'PhucLee', 'TanLD', 'HaLeManh', 'PhucLee', '06172733', 'DanNV', 'TanLD', 'BinhCX', 'VuTP', 'HaLuuManh', 'DungVQ', 'TrongDD', 'ThienBD', '06172733', 'TucNV', 'TucNV', 'TucNV', '11122528', '12135608', 'DucLH', 'TanLD', '12135608', 'ThinhNH', 'TanLD', 'ThienBD', 'CuongVL', 'LongNP', 'TungTH', 'TrongDD', 'ThienBD', '12141308', 'NamND', 'LongNP', 'HueLT', 'ThienBD', 'CuongVL', 'TucNV', 'HaLuuManh', 'HaLeManh', 'VietHM', 'TonLH', 'BinhCX', 'TrongDD', 'PhucLee', '15113516', 'TrongDD', 'HueLT', 'ThieuTQ', 'HaLuuManh', 'TonLH', 'PhucLee', '12193002', 'ThanhND', '12193002', 'HueLT', 'ThuyNV', 'DucLH', 'HuongNTM', 'ThienBD', 'TanLD', 'TonLH', 'HaLeManh', '06172733', 'DungVQ', 'HaLuuManh', 'TungTH', 'ThuyNT', 'ThanhND', 'TrongDD', 'HaLeManh', 'HaLeManh', 'DongPD', 'DanNV', 'CoGiupViec', 'VietHM', 'TungTH', '08162629', 'PhucLee', '12141308', 'TonLH', 'ThienBD', 'VV-Vien', 'HueLT', '12193002', 'HaLuuManh', 'DungVQ', 'LongNP', 'HaLeManh', '11171416', 'PhucLee', 'PhucLee', '08162629', 'NT-Hung', '11122528', 'ThanhND', 'HaLeManh', 'ThinhNH', 'ThinhNH', '27164710', 'CuongVL', 'PhucLee', 'PhucLee', 'Duc', '12193002', 'CuongVL', 'HaLuuManh', 'ThanhNN', 'VuTP', 'ThienBD', '08162629', 'ThanhND', 'DongPD', 'DungVQ', 'HaLuuManh', 'ThuyNT', 'ThinhNH', 'DungVQ', 'TrongDD', '08162629', 'VuTP', 'HueLT', 'ThanhNN', 'LongNP', 'DucLH', 'DungVQ', 'ThinhNH', 'TucNV', 'ThanhNN', '12193002', 'DucLH', 'TanLD', 'LongNP', 'TanLD', 'TucNV', 'TonLH', 'TucNV', 'ThanhND', 'PhucLee', 'HueLT', 'ThienBD', 'PhucLee', 'ThienBD', 'TanLD', 'DongPD', 'VietHM', 'TonLH', 'ThuyNT', 'QuanVA', 'ThienBD', '06172733', 'NamND', 'DucNM', 'PhucLee', '12084317', 'BinhCX', 'HueLT', 'NamND', 'DucNM', 'LongNP', 'NT-Hung', 'HueLT', 'HaLuuManh', 'VietHM', 'ThuyNT', 'ThienBD', 'DungVQ', 'NamND', 'LongNP', 'ThanhND', 'DucLH', 'BinhCX', 'ThanhNN', 'BinhCX', 'DucLH', 'TucNV', 'HaLeManh', 'ThienBD', 'PhucLee', 'CuongVL', 'TrongDD', 'HaLeManh', 'ThuyNV', 'ThuyNT', '11143920', 'HaLeManh', 'PhucLee', 'TungTH', 'DungVQ', 'ThienBD', 'HueLT', 'TungTH', 'HaLuuManh', 'ThuyNT', 'DungVQ', 'PhucLee', 'ThanhNN', 'PhucLee', 'ThuyNT', 'HaLuuManh', 'HuongNTM', 'ThuyNT', '15113516', 'VuTP', 'DongPD', 'TonLH', 'TrongDD', 'CuongVL', 'TanLD', 'TonLH', 'NamND', 'DungVQ', 'PhucLee', 'LongNP', 'DungVQ', 'PhucLee', 'TungTH', 'DucVA', 'ThanhND', 'LongNP', 'ThinhNH', 'ThinhNH', 'ThanhND', 'TonLH', 'NamND', 'HaLuuManh', 'TrongDD', 'ThanhNN', 'ThienBD', 'Duc', 'HueLT', 'HaLeManh', 'TucNV', 'NamND', 'CoGiupViec', 'TonLH', '15113516', 'PhucLee', 'NamND', 'HueLT', 'LuanNT', '15113516', 'TanLD', 'ThienBD', 'CuongVL', 'DucLH', 'HaLuuManh', 'ThienBD', 'HaLuuManh', 'PhucLee', 'BinhCX', 'LongNP', 'DongPD', 'ThinhNH', 'ThienBD', 'TungTH', 'TungTH', 'CuongVL', '12084317', 'TucNV', 'TanLD', 'ThuyNT', 'DucLH', 'ThinhNH', 'TanLD', 'ThanhND', 'TungTH', 'PhucLee', 'HueLT', 'PhucLee', 'ThuyNT', 'HaLeManh', 'DongPD', 'ThuyNT', '08162629', 'TungTH', 'VietHM', 'ThanhNN', 'ThanhND', 'PhucLee', 'NamND', '11171416', 'DungVQ', 'TungTH', 'PhucLee', 'ThinhNH', 'ThanhND', 'ThanhND', 'DucLH', 'LongNP', 'TucNV', 'VietHM', 'TanLD', 'ThanhND', 'ThuyNT', 'ThieuTQ', 'TucNV', '11143920', 'HueLT', 'CuongVL', 'DongPD', 'CuongVL', 'HueLT', 'TrongDD', 'ThinhNH', 'NamND', 'CuongVL', 'ThienBD', 'TonLH', 'HueLT', 'TanLD', 'HaLuuManh', 'ThuyNT', 'TrongDD', 'HaLeManh', 'TungTH', 'NamND', 'DucLH']\n",
      "['QuanVA', 'PhucLB', 'TanLD', 'ThinhNH', 'DungVQ', 'BinhCX', 'ThanhNN', 'TonLH', 'CuongVL', 'Duc', 'ThanhND', 'ThanhND', 'ThinhNH', 'PhucLB', '20161554', 'DungVQ', '15113516', 'ThanhND', 'ThuyNV', 'DucLH', 'HaLuuManh', '15113516', 'VietHM', 'SonHViettel', 'BinhCX', 'ThanhND', 'TucNV', 'ThanhND', 'ThinhNH', 'TucNV', 'ThinhNH', 'VuTP', 'DucLH', 'TucNV', 'LongNP', 'HaLeManh', 'Duc', 'ThanhND', 'ThanhND', 'PhucLee', 'ThuyNT', 'DucLH', 'LongNP', 'HaLuuManh', '11122528', 'ThienBD', '11122528', 'PhucLB', 'ThanhND', 'CuongVL', 'HuongNTM', 'ThanhND', 'NamND', 'TungTH', 'ThinhNH', 'ThuyNT', 'HaLuuManh', '12084316', 'ThienBD', 'ToanTX', 'DungVQ', 'HueLT', 'DucNM', 'PhucLB', 'PhucLB', 'TungTH', 'HaLuuManh', '12141308', 'DucLH', 'NhungNT', 'ThinhNH', '11122528', 'HueLT', 'TrongDD', 'PhucLee', 'HaLuuManh', 'TungTH', 'HueLT', 'TrongDD', 'ThienBD', 'VietHM', 'HueLT', 'CuongVL', 'LongNP', 'TucNV', 'PhucLB', 'PhucLB', 'PLan-Tu', 'VuTP', 'HaLuuManh', 'TucNV', 'DucLH', 'NamND', 'HaLeManh', 'ThanhNN', 'TungTH', 'BinhCX', 'TungTH', '15113516', 'LongNP', 'HaLeManh', 'DucLH', '11171416', 'BinhCX', 'ThuyNT', '06172733', 'TonLH', 'CuongVL', 'DucLH', '11122528', 'NT-Hung', 'DucLH', 'HaLuuManh', 'DongPD', 'DungVQ', '12135608', 'DucVA', 'BinhCX', 'ThanhND', 'ThinhNH', 'BinhCX', 'HaLeManh', 'TucNV', '19162549', 'CuongVL', 'NamND', 'NamND', 'CuongVL', 'CuongVL', 'VV-Vien', 'LongNP', '12135608', 'PhucLee', 'DungVQ', '12193002', '15113516', 'BinhCX', 'DungVQ', 'LuanNT', 'TanLD', 'TungTH', 'PhucLee', 'VV-Vien', 'HaLuuManh', 'HuongNTM', 'NamND', 'VuTP', 'VietHM', 'VuTP', 'HueLT', 'TrongDD', 'DucVA', 'NamND', '11171416', '08165903', 'TrongDD', 'VuTP', 'TanLD', 'VuTP', 'TucNV', 'TanLD', 'PhucLB', 'ThienBD', 'HueLT', 'LongNP', 'PhucLee', 'TungTH', 'TanLD', 'LongNP', 'NamND', '08162629', 'CuongVL', 'NhungNT', 'PhucLee', 'HaLuuManh', '12141308', 'ThuyNT', '15113516', 'HaLeManh', 'NamND', 'ThuyNT', 'ThuyNT', 'TucNV', 'ThanhNN', 'DucLH', 'DucLH', 'HaLuuManh', 'TucNV', 'Duc', '12135608', 'ThanhNN', 'BinhCX', '19162557', 'DungVQ', 'QuanVA', 'PhucLee', 'ThanhNN', 'HaLeManh', 'PhucLB', 'HaLeManh', 'PLan-Tu', 'DungVQ', 'LongNP', 'ToanTX', 'ThuyNT', '06172733', 'VietHM', 'NamND', 'HaLuuManh', 'TungTH', 'BinhCX', 'ThanhNN', 'TanLD', 'CuongVL', 'VuTP', 'HaLeManh', 'ThanhNN', 'ThuyNT', 'PhucLB', 'TanLD', 'HaLeManh', 'PhucLee', '06172733', 'DanNV', 'TanLD', 'BinhCX', 'VuTP', 'HaLuuManh', 'DungVQ', 'TrongDD', 'Dung3D', '06172733', 'TucNV', 'TucNV', 'TucNV', '11122528', '12135608', 'DucLH', 'TanLD', '12135608', 'ThinhNH', 'TanLD', 'ThienBD', 'CuongVL', 'LongNP', 'TungTH', 'TrongDD', 'ThienBD', '12141308', 'NamND', 'LongNP', '12084317', 'ThienBD', 'CuongVL', 'TucNV', 'HaLuuManh', 'HaLeManh', 'VietHM', 'TonLH', 'BinhCX', 'TrongDD', 'PhucLB', '13115604', 'TrongDD', 'HueLT', 'ThieuTQ', 'HaLuuManh', 'TonLH', 'PhucLB', '12193002', 'ThanhND', '12193002', 'HueLT', 'ThuyNV', 'DucLH', 'HuongNTM', 'ThienBD', 'TanLD', 'TonLH', 'HaLeManh', '06172733', 'DungVQ', 'HaLuuManh', 'TungTH', 'ThuyNT', 'ThanhND', 'TrongDD', 'HaLeManh', 'HaLeManh', 'DongPD', 'DanNV', 'CoGiupViec', 'VietHM', 'TungTH', '08162629', 'PhucLee', '12141308', 'TonLH', 'ThienBD', 'VV-Vien', 'HueLT', '12193002', 'HaLuuManh', 'DungVQ', 'LongNP', '19160920', '11171416', 'PhucLB', 'PhucLee', '08162629', 'NT-Hung', '11122528', 'ThanhND', 'HaLeManh', 'ThinhNH', 'ThinhNH', '27164710', 'CuongVL', 'PhucLee', 'PhucLB', 'DucVA', '12193002', 'CuongVL', 'HaLuuManh', 'ThanhNN', 'VuTP', 'ThienBD', '08162629', 'ThanhND', 'DongPD', 'DungVQ', 'HaLuuManh', 'ThuyNT', 'ThinhNH', 'DungVQ', 'TrongDD', '08162629', 'VuTP', 'HueLT', 'ThanhNN', 'LongNP', 'DucLH', 'DungVQ', 'ThinhNH', 'TucNV', 'ThanhNN', '20113905', 'DucLH', 'TanLD', 'LongNP', 'TanLD', 'TucNV', 'TonLH', 'TucNV', 'ThanhND', 'PhucLee', 'HueLT', 'ThienBD', 'PhucLB', 'ThienBD', 'TanLD', 'DongPD', 'VietHM', 'TonLH', 'ThuyNT', 'QuanVA', 'ThienBD', '06172733', 'NamND', 'DucNM', 'PhucLee', '12084317', 'BinhCX', 'HueLT', 'NamND', 'DucNM', 'LongNP', 'NT-Hung', 'HueLT', 'HaLuuManh', 'VietHM', 'ThuyNT', 'ThienBD', 'DungVQ', 'NamND', 'LongNP', 'ThanhND', 'DucLH', 'BinhCX', 'ThanhNN', 'BinhCX', 'DucLH', 'NHoang-Hai', 'HaLeManh', 'ThienBD', 'PhucLee', 'CuongVL', 'TrongDD', 'HaLeManh', 'ThuyNV', 'ThuyNT', '11143920', 'HaLeManh', 'PhucLB', 'TungTH', 'DungVQ', 'ThienBD', 'HueLT', 'TungTH', 'HaLuuManh', 'ThuyNT', 'DungVQ', 'PhucLee', 'ThanhNN', 'PhucLB', '19162532', 'HaLuuManh', 'HuongNTM', 'ThuyNT', '15113516', 'VuTP', 'DongPD', 'TonLH', 'TrongDD', 'CuongVL', 'TanLD', 'TonLH', 'NamND', 'DungVQ', 'PhucLee', 'LongNP', 'DungVQ', 'PhucLee', 'TungTH', 'DucVA', 'ThanhND', 'LongNP', 'ThinhNH', 'ThinhNH', 'ThanhND', 'TonLH', 'NamND', 'HaLuuManh', 'TrongDD', 'ThanhNN', 'ThienBD', 'Duc', 'HueLT', 'HaLeManh', 'TucNV', 'NamND', 'CoGiupViec', 'TonLH', '15113516', 'PhucLee', 'NamND', 'HueLT', 'LuanNT', '15113516', 'TanLD', 'ThienBD', 'CuongVL', 'DucLH', 'HaLuuManh', 'DungNV', 'HaLuuManh', 'PhucLee', 'BinhCX', 'LongNP', 'DongPD', 'ThinhNH', 'ThienBD', 'TungTH', 'TungTH', 'CuongVL', '12084317', 'TucNV', 'TanLD', 'ThuyNT', 'DucLH', 'ThinhNH', 'TanLD', '12141308', 'TungTH', 'PhucLB', 'HueLT', 'PhucLB', 'ThuyNT', 'HaLeManh', 'DongPD', 'ThuyNT', '08162629', 'TungTH', 'VietHM', 'ThanhNN', 'ThanhND', 'PhucLB', 'NamND', '11171416', 'DungVQ', 'TungTH', 'PhucLee', 'ThinhNH', 'ThanhND', 'ThanhND', 'DucLH', 'LongNP', 'TucNV', 'VietHM', 'TanLD', 'ThanhND', 'ThuyNT', 'ThieuTQ', 'TucNV', '11143920', 'HueLT', 'CuongVL', 'DongPD', 'CuongVL', 'HueLT', 'TrongDD', 'ThinhNH', 'NamND', 'CuongVL', 'ThienBD', 'TonLH', 'HueLT', 'TanLD', 'HaLuuManh', 'ThuyNT', 'TrongDD', 'HaLeManh', 'TungTH', 'NamND', 'DucLH']\n",
      "92.71028037383178\n"
     ]
    }
   ],
   "source": [
    "#Main\n",
    "K = 1\n",
    "neighbors = []\n",
    "predict = []\n",
    "test = []\n",
    "\n",
    "for i in range(len(X_test)):\n",
    "    neighbors = getNeighbors(X_train,X_test[i],K)\n",
    "    predict.append(getResponse(neighbors))\n",
    "    test.append(X_test[i][-1])\n",
    "    \n",
    "acc = getAccuracy(test, predict)\n",
    "#print(X_test)\n",
    "# print(X_train)\n",
    "# print(neighbors)\n",
    "print(predict)\n",
    "print(test)\n",
    "print(acc)"
   ]
  },
  {
   "cell_type": "code",
   "execution_count": null,
   "metadata": {},
   "outputs": [],
   "source": []
  }
 ],
 "metadata": {
  "kernelspec": {
   "display_name": "Python 3",
   "language": "python",
   "name": "python3"
  },
  "language_info": {
   "codemirror_mode": {
    "name": "ipython",
    "version": 3
   },
   "file_extension": ".py",
   "mimetype": "text/x-python",
   "name": "python",
   "nbconvert_exporter": "python",
   "pygments_lexer": "ipython3",
   "version": "3.7.1"
  }
 },
 "nbformat": 4,
 "nbformat_minor": 2
}
